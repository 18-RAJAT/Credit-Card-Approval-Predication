{
 "cells": [
  {
   "cell_type": "code",
   "execution_count": 76,
   "metadata": {
    "collapsed": true
   },
   "outputs": [],
   "source": [
    "import pandas as pd\n",
    "import numpy as np\n",
    "import matplotlib\n",
    "import matplotlib.pyplot as plt\n",
    "import seaborn as sns\n",
    "from sklearn.preprocessing import LabelEncoder\n",
    "from sklearn.model_selection import train_test_split\n",
    "from sklearn.linear_model import LogisticRegression\n",
    "from sklearn.metrics import roc_curve, auc\n",
    "from sklearn.metrics import confusion_matrix\n",
    "from sklearn.model_selection import GridSearchCV\n",
    "from sklearn.preprocessing import MinMaxScaler\n",
    "from sklearn.metrics import classification_report"
   ]
  },
  {
   "cell_type": "code",
   "execution_count": 77,
   "outputs": [],
   "source": [
    "column_names = ['Gender', 'Age', 'Debt', 'Married', 'Bank Customer', 'Education Level', 'Ethnicity', 'Years Employed', 'Prior Default', 'Employed','Credit Score', 'Drivers License', 'Citizen',\t'Zip Code',\t'Income', 'Approved']"
   ],
   "metadata": {
    "collapsed": false
   }
  },
  {
   "cell_type": "code",
   "execution_count": 78,
   "outputs": [],
   "source": [
    "data = pd.read_csv(r'crx.data', names = column_names)"
   ],
   "metadata": {
    "collapsed": false
   }
  },
  {
   "cell_type": "code",
   "execution_count": 79,
   "outputs": [
    {
     "data": {
      "text/plain": "  Gender    Age   Debt Married Bank Customer Education Level Ethnicity  \\\n0      b  30.83  0.000       u             g               w         v   \n1      a  58.67  4.460       u             g               q         h   \n2      a  24.50  0.500       u             g               q         h   \n3      b  27.83  1.540       u             g               w         v   \n4      b  20.17  5.625       u             g               w         v   \n\n   Years Employed Prior Default Employed  Credit Score Drivers License  \\\n0            1.25             t        t             1               f   \n1            3.04             t        t             6               f   \n2            1.50             t        f             0               f   \n3            3.75             t        t             5               t   \n4            1.71             t        f             0               f   \n\n  Citizen Zip Code  Income Approved  \n0       g    00202       0        +  \n1       g    00043     560        +  \n2       g    00280     824        +  \n3       g    00100       3        +  \n4       s    00120       0        +  ",
      "text/html": "<div>\n<style scoped>\n    .dataframe tbody tr th:only-of-type {\n        vertical-align: middle;\n    }\n\n    .dataframe tbody tr th {\n        vertical-align: top;\n    }\n\n    .dataframe thead th {\n        text-align: right;\n    }\n</style>\n<table border=\"1\" class=\"dataframe\">\n  <thead>\n    <tr style=\"text-align: right;\">\n      <th></th>\n      <th>Gender</th>\n      <th>Age</th>\n      <th>Debt</th>\n      <th>Married</th>\n      <th>Bank Customer</th>\n      <th>Education Level</th>\n      <th>Ethnicity</th>\n      <th>Years Employed</th>\n      <th>Prior Default</th>\n      <th>Employed</th>\n      <th>Credit Score</th>\n      <th>Drivers License</th>\n      <th>Citizen</th>\n      <th>Zip Code</th>\n      <th>Income</th>\n      <th>Approved</th>\n    </tr>\n  </thead>\n  <tbody>\n    <tr>\n      <th>0</th>\n      <td>b</td>\n      <td>30.83</td>\n      <td>0.000</td>\n      <td>u</td>\n      <td>g</td>\n      <td>w</td>\n      <td>v</td>\n      <td>1.25</td>\n      <td>t</td>\n      <td>t</td>\n      <td>1</td>\n      <td>f</td>\n      <td>g</td>\n      <td>00202</td>\n      <td>0</td>\n      <td>+</td>\n    </tr>\n    <tr>\n      <th>1</th>\n      <td>a</td>\n      <td>58.67</td>\n      <td>4.460</td>\n      <td>u</td>\n      <td>g</td>\n      <td>q</td>\n      <td>h</td>\n      <td>3.04</td>\n      <td>t</td>\n      <td>t</td>\n      <td>6</td>\n      <td>f</td>\n      <td>g</td>\n      <td>00043</td>\n      <td>560</td>\n      <td>+</td>\n    </tr>\n    <tr>\n      <th>2</th>\n      <td>a</td>\n      <td>24.50</td>\n      <td>0.500</td>\n      <td>u</td>\n      <td>g</td>\n      <td>q</td>\n      <td>h</td>\n      <td>1.50</td>\n      <td>t</td>\n      <td>f</td>\n      <td>0</td>\n      <td>f</td>\n      <td>g</td>\n      <td>00280</td>\n      <td>824</td>\n      <td>+</td>\n    </tr>\n    <tr>\n      <th>3</th>\n      <td>b</td>\n      <td>27.83</td>\n      <td>1.540</td>\n      <td>u</td>\n      <td>g</td>\n      <td>w</td>\n      <td>v</td>\n      <td>3.75</td>\n      <td>t</td>\n      <td>t</td>\n      <td>5</td>\n      <td>t</td>\n      <td>g</td>\n      <td>00100</td>\n      <td>3</td>\n      <td>+</td>\n    </tr>\n    <tr>\n      <th>4</th>\n      <td>b</td>\n      <td>20.17</td>\n      <td>5.625</td>\n      <td>u</td>\n      <td>g</td>\n      <td>w</td>\n      <td>v</td>\n      <td>1.71</td>\n      <td>t</td>\n      <td>f</td>\n      <td>0</td>\n      <td>f</td>\n      <td>s</td>\n      <td>00120</td>\n      <td>0</td>\n      <td>+</td>\n    </tr>\n  </tbody>\n</table>\n</div>"
     },
     "execution_count": 79,
     "metadata": {},
     "output_type": "execute_result"
    }
   ],
   "source": [
    "data.head()"
   ],
   "metadata": {
    "collapsed": false
   }
  },
  {
   "cell_type": "code",
   "execution_count": 80,
   "outputs": [
    {
     "name": "stdout",
     "output_type": "stream",
     "text": [
      "<class 'pandas.core.frame.DataFrame'>\n",
      "RangeIndex: 690 entries, 0 to 689\n",
      "Data columns (total 16 columns):\n",
      " #   Column           Non-Null Count  Dtype  \n",
      "---  ------           --------------  -----  \n",
      " 0   Gender           690 non-null    object \n",
      " 1   Age              690 non-null    object \n",
      " 2   Debt             690 non-null    float64\n",
      " 3   Married          690 non-null    object \n",
      " 4   Bank Customer    690 non-null    object \n",
      " 5   Education Level  690 non-null    object \n",
      " 6   Ethnicity        690 non-null    object \n",
      " 7   Years Employed   690 non-null    float64\n",
      " 8   Prior Default    690 non-null    object \n",
      " 9   Employed         690 non-null    object \n",
      " 10  Credit Score     690 non-null    int64  \n",
      " 11  Drivers License  690 non-null    object \n",
      " 12  Citizen          690 non-null    object \n",
      " 13  Zip Code         690 non-null    object \n",
      " 14  Income           690 non-null    int64  \n",
      " 15  Approved         690 non-null    object \n",
      "dtypes: float64(2), int64(2), object(12)\n",
      "memory usage: 86.4+ KB\n"
     ]
    }
   ],
   "source": [
    "data.info()"
   ],
   "metadata": {
    "collapsed": false
   }
  },
  {
   "cell_type": "code",
   "execution_count": 81,
   "outputs": [
    {
     "data": {
      "text/plain": "(690, 16)"
     },
     "execution_count": 81,
     "metadata": {},
     "output_type": "execute_result"
    }
   ],
   "source": [
    "data.shape"
   ],
   "metadata": {
    "collapsed": false
   }
  },
  {
   "cell_type": "code",
   "execution_count": 82,
   "outputs": [
    {
     "name": "stderr",
     "output_type": "stream",
     "text": [
      "C:\\Users\\rajat joshi\\AppData\\Local\\Temp\\ipykernel_6008\\468915165.py:2: FutureWarning: The default value of numeric_only in DataFrame.corr is deprecated. In a future version, it will default to False. Select only valid columns or specify the value of numeric_only to silence this warning.\n",
      "  sns.heatmap(data.corr(), square=True, annot=True, cmap='RdYlGn')\n"
     ]
    },
    {
     "data": {
      "text/plain": "<AxesSubplot: >"
     },
     "execution_count": 82,
     "metadata": {},
     "output_type": "execute_result"
    },
    {
     "data": {
      "text/plain": "<Figure size 640x480 with 2 Axes>",
      "image/png": "[encoded data removed]"
     },
     "metadata": {},
     "output_type": "display_data"
    }
   ],
   "source": [
    "#sns ip\n",
    "sns.heatmap(data.corr(), square=True, annot=True, cmap='RdYlGn')"
   ],
   "metadata": {
    "collapsed": false
   }
  },
  {
   "cell_type": "code",
   "execution_count": 83,
   "outputs": [
    {
     "data": {
      "text/plain": "<AxesSubplot: xlabel='Approved', ylabel='count'>"
     },
     "execution_count": 83,
     "metadata": {},
     "output_type": "execute_result"
    },
    {
     "data": {
      "text/plain": "<Figure size 640x480 with 1 Axes>",
      "image/png": "[encoded data removed]"
     },
     "metadata": {},
     "output_type": "display_data"
    }
   ],
   "source": [
    "sns.countplot(data = data, x = 'Approved')"
   ],
   "metadata": {
    "collapsed": false
   }
  },
  {
   "cell_type": "code",
   "execution_count": 84,
   "outputs": [
    {
     "name": "stderr",
     "output_type": "stream",
     "text": [
      "C:\\Users\\rajat joshi\\AppData\\Local\\Temp\\ipykernel_6008\\3054720965.py:1: FutureWarning: The default value of numeric_only in DataFrame.skew is deprecated. In a future version, it will default to False. In addition, specifying 'numeric_only=None' is deprecated. Select only valid columns or specify the value of numeric_only to silence this warning.\n",
      "  data.skew()\n"
     ]
    },
    {
     "data": {
      "text/plain": "Debt               1.488813\nYears Employed     2.891330\nCredit Score       5.152520\nIncome            13.140655\ndtype: float64"
     },
     "execution_count": 84,
     "metadata": {},
     "output_type": "execute_result"
    }
   ],
   "source": [
    "data.skew()"
   ],
   "metadata": {
    "collapsed": false
   }
  },
  {
   "cell_type": "code",
   "execution_count": 85,
   "outputs": [
    {
     "data": {
      "text/plain": "<Figure size 640x480 with 1 Axes>",
      "image/png": "[encoded data removed]"
     },
     "metadata": {},
     "output_type": "display_data"
    }
   ],
   "source": [
    "ax1= data['Income'].plot.hist(bins=50, alpha=0.5, title='Income')"
   ],
   "metadata": {
    "collapsed": false
   }
  },
  {
   "cell_type": "code",
   "execution_count": 86,
   "outputs": [],
   "source": [
    "#Missing value"
   ],
   "metadata": {
    "collapsed": false
   }
  },
  {
   "cell_type": "code",
   "execution_count": 87,
   "outputs": [
    {
     "data": {
      "text/plain": "Gender             0\nAge                0\nDebt               0\nMarried            0\nBank Customer      0\nEducation Level    0\nEthnicity          0\nYears Employed     0\nPrior Default      0\nEmployed           0\nCredit Score       0\nDrivers License    0\nCitizen            0\nZip Code           0\nIncome             0\nApproved           0\ndtype: int64"
     },
     "execution_count": 87,
     "metadata": {},
     "output_type": "execute_result"
    }
   ],
   "source": [
    "data.isnull().sum()"
   ],
   "metadata": {
    "collapsed": false
   }
  },
  {
   "cell_type": "code",
   "execution_count": 88,
   "outputs": [
    {
     "data": {
      "text/plain": "  Gender    Age    Debt Married Bank Customer Education Level Ethnicity  \\\n0      b  30.83   0.000       u             g               w         v   \n1      a  58.67   4.460       u             g               q         h   \n2      a  24.50   0.500       u             g               q         h   \n3      b  27.83   1.540       u             g               w         v   \n4      b  20.17   5.625       u             g               w         v   \n5      b  32.08   4.000       u             g               m         v   \n6      b  33.17   1.040       u             g               r         h   \n7      a  22.92  11.585       u             g              cc         v   \n8      b  54.42   0.500       y             p               k         h   \n9      b  42.50   4.915       y             p               w         v   \n\n   Years Employed Prior Default Employed  Credit Score Drivers License  \\\n0           1.250             t        t             1               f   \n1           3.040             t        t             6               f   \n2           1.500             t        f             0               f   \n3           3.750             t        t             5               t   \n4           1.710             t        f             0               f   \n5           2.500             t        f             0               t   \n6           6.500             t        f             0               t   \n7           0.040             t        f             0               f   \n8           3.960             t        f             0               f   \n9           3.165             t        f             0               t   \n\n  Citizen Zip Code  Income Approved  \n0       g    00202       0        +  \n1       g    00043     560        +  \n2       g    00280     824        +  \n3       g    00100       3        +  \n4       s    00120       0        +  \n5       g    00360       0        +  \n6       g    00164   31285        +  \n7       g    00080    1349        +  \n8       g    00180     314        +  \n9       g    00052    1442        +  ",
      "text/html": "<div>\n<style scoped>\n    .dataframe tbody tr th:only-of-type {\n        vertical-align: middle;\n    }\n\n    .dataframe tbody tr th {\n        vertical-align: top;\n    }\n\n    .dataframe thead th {\n        text-align: right;\n    }\n</style>\n<table border=\"1\" class=\"dataframe\">\n  <thead>\n    <tr style=\"text-align: right;\">\n      <th></th>\n      <th>Gender</th>\n      <th>Age</th>\n      <th>Debt</th>\n      <th>Married</th>\n      <th>Bank Customer</th>\n      <th>Education Level</th>\n      <th>Ethnicity</th>\n      <th>Years Employed</th>\n      <th>Prior Default</th>\n      <th>Employed</th>\n      <th>Credit Score</th>\n      <th>Drivers License</th>\n      <th>Citizen</th>\n      <th>Zip Code</th>\n      <th>Income</th>\n      <th>Approved</th>\n    </tr>\n  </thead>\n  <tbody>\n    <tr>\n      <th>0</th>\n      <td>b</td>\n      <td>30.83</td>\n      <td>0.000</td>\n      <td>u</td>\n      <td>g</td>\n      <td>w</td>\n      <td>v</td>\n      <td>1.250</td>\n      <td>t</td>\n      <td>t</td>\n      <td>1</td>\n      <td>f</td>\n      <td>g</td>\n      <td>00202</td>\n      <td>0</td>\n      <td>+</td>\n    </tr>\n    <tr>\n      <th>1</th>\n      <td>a</td>\n      <td>58.67</td>\n      <td>4.460</td>\n      <td>u</td>\n      <td>g</td>\n      <td>q</td>\n      <td>h</td>\n      <td>3.040</td>\n      <td>t</td>\n      <td>t</td>\n      <td>6</td>\n      <td>f</td>\n      <td>g</td>\n      <td>00043</td>\n      <td>560</td>\n      <td>+</td>\n    </tr>\n    <tr>\n      <th>2</th>\n      <td>a</td>\n      <td>24.50</td>\n      <td>0.500</td>\n      <td>u</td>\n      <td>g</td>\n      <td>q</td>\n      <td>h</td>\n      <td>1.500</td>\n      <td>t</td>\n      <td>f</td>\n      <td>0</td>\n      <td>f</td>\n      <td>g</td>\n      <td>00280</td>\n      <td>824</td>\n      <td>+</td>\n    </tr>\n    <tr>\n      <th>3</th>\n      <td>b</td>\n      <td>27.83</td>\n      <td>1.540</td>\n      <td>u</td>\n      <td>g</td>\n      <td>w</td>\n      <td>v</td>\n      <td>3.750</td>\n      <td>t</td>\n      <td>t</td>\n      <td>5</td>\n      <td>t</td>\n      <td>g</td>\n      <td>00100</td>\n      <td>3</td>\n      <td>+</td>\n    </tr>\n    <tr>\n      <th>4</th>\n      <td>b</td>\n      <td>20.17</td>\n      <td>5.625</td>\n      <td>u</td>\n      <td>g</td>\n      <td>w</td>\n      <td>v</td>\n      <td>1.710</td>\n      <td>t</td>\n      <td>f</td>\n      <td>0</td>\n      <td>f</td>\n      <td>s</td>\n      <td>00120</td>\n      <td>0</td>\n      <td>+</td>\n    </tr>\n    <tr>\n      <th>5</th>\n      <td>b</td>\n      <td>32.08</td>\n      <td>4.000</td>\n      <td>u</td>\n      <td>g</td>\n      <td>m</td>\n      <td>v</td>\n      <td>2.500</td>\n      <td>t</td>\n      <td>f</td>\n      <td>0</td>\n      <td>t</td>\n      <td>g</td>\n      <td>00360</td>\n      <td>0</td>\n      <td>+</td>\n    </tr>\n    <tr>\n      <th>6</th>\n      <td>b</td>\n      <td>33.17</td>\n      <td>1.040</td>\n      <td>u</td>\n      <td>g</td>\n      <td>r</td>\n      <td>h</td>\n      <td>6.500</td>\n      <td>t</td>\n      <td>f</td>\n      <td>0</td>\n      <td>t</td>\n      <td>g</td>\n      <td>00164</td>\n      <td>31285</td>\n      <td>+</td>\n    </tr>\n    <tr>\n      <th>7</th>\n      <td>a</td>\n      <td>22.92</td>\n      <td>11.585</td>\n      <td>u</td>\n      <td>g</td>\n      <td>cc</td>\n      <td>v</td>\n      <td>0.040</td>\n      <td>t</td>\n      <td>f</td>\n      <td>0</td>\n      <td>f</td>\n      <td>g</td>\n      <td>00080</td>\n      <td>1349</td>\n      <td>+</td>\n    </tr>\n    <tr>\n      <th>8</th>\n      <td>b</td>\n      <td>54.42</td>\n      <td>0.500</td>\n      <td>y</td>\n      <td>p</td>\n      <td>k</td>\n      <td>h</td>\n      <td>3.960</td>\n      <td>t</td>\n      <td>f</td>\n      <td>0</td>\n      <td>f</td>\n      <td>g</td>\n      <td>00180</td>\n      <td>314</td>\n      <td>+</td>\n    </tr>\n    <tr>\n      <th>9</th>\n      <td>b</td>\n      <td>42.50</td>\n      <td>4.915</td>\n      <td>y</td>\n      <td>p</td>\n      <td>w</td>\n      <td>v</td>\n      <td>3.165</td>\n      <td>t</td>\n      <td>f</td>\n      <td>0</td>\n      <td>t</td>\n      <td>g</td>\n      <td>00052</td>\n      <td>1442</td>\n      <td>+</td>\n    </tr>\n  </tbody>\n</table>\n</div>"
     },
     "execution_count": 88,
     "metadata": {},
     "output_type": "execute_result"
    }
   ],
   "source": [
    "data.head(10)"
   ],
   "metadata": {
    "collapsed": false
   }
  },
  {
   "cell_type": "code",
   "execution_count": 89,
   "outputs": [
    {
     "data": {
      "text/plain": "    Gender    Age    Debt Married Bank Customer Education Level Ethnicity  \\\n71       b  34.83   4.000       u             g               d        bb   \n83       a      ?   3.500       u             g               d         v   \n86       b      ?   0.375       u             g               d         v   \n92       b      ?   5.000       y             p              aa         v   \n97       b      ?   0.500       u             g               c        bb   \n202      b  24.83   2.750       u             g               c         v   \n206      a  71.58   0.000       ?             ?               ?         ?   \n243      a  18.75   7.500       u             g               q         v   \n248      ?  24.50  12.750       u             g               c        bb   \n254      b      ?   0.625       u             g               k         v   \n270      b  37.58   0.000       ?             ?               ?         ?   \n278      b  24.58  13.500       y             p              ff        ff   \n286      a      ?   1.500       u             g              ff        ff   \n327      ?  40.83   3.500       u             g               i        bb   \n329      b      ?   4.000       y             p               i         v   \n330      b  20.42   0.000       ?             ?               ?         ?   \n346      ?  32.25   1.500       u             g               c         v   \n374      ?  28.17   0.585       u             g              aa         v   \n406      a  40.33   8.125       y             p               k         v   \n445      a      ?  11.250       u             g              ff        ff   \n450      b      ?   3.000       y             p               i        bb   \n453      ?  29.75   0.665       u             g               w         v   \n456      b  34.58   0.000       ?             ?               ?         ?   \n479      ?  26.50   2.710       y             p               ?         ?   \n489      ?  45.33   1.000       u             g               q         v   \n500      b      ?   4.000       u             g               x         v   \n515      b      ?  10.500       u             g               x         v   \n520      ?  20.42   7.500       u             g               k         v   \n539      b  80.25   5.500       u             g               ?         ?   \n592      b  23.17   0.000       ?             ?               ?         ?   \n598      ?  20.08   0.125       u             g               q         v   \n601      ?  42.25   1.750       y             p               ?         ?   \n608      b      ?   0.040       y             p               d         v   \n622      a  25.58   0.000       ?             ?               ?         ?   \n626      b  22.00   7.835       y             p               i        bb   \n641      ?  33.17   2.250       y             p              cc         v   \n673      ?  29.50   2.000       y             p               e         h   \n\n     Years Employed Prior Default Employed  Credit Score Drivers License  \\\n71           12.500             t        f             0               t   \n83            3.000             t        f             0               t   \n86            0.875             t        f             0               t   \n92            8.500             t        f             0               f   \n97            0.835             t        f             0               t   \n202           2.250             t        t             6               f   \n206           0.000             f        f             0               f   \n243           2.710             t        t             5               f   \n248           4.750             t        t             2               f   \n254           0.250             f        f             0               f   \n270           0.000             f        f             0               f   \n278           0.000             f        f             0               f   \n286           0.000             f        t             2               t   \n327           0.500             f        f             0               f   \n329           0.085             f        f             0               t   \n330           0.000             f        f             0               f   \n346           0.250             f        f             0               t   \n374           0.040             f        f             0               f   \n406           0.165             f        t             2               f   \n445           0.000             f        f             0               f   \n450           7.000             f        f             0               f   \n453           0.250             f        f             0               t   \n456           0.000             f        f             0               f   \n479           0.085             f        f             0               f   \n489           0.125             f        f             0               t   \n500           5.000             t        t             3               t   \n515           6.500             t        f             0               f   \n520           1.500             t        t             1               f   \n539           0.540             t        f             0               f   \n592           0.000             f        f             0               f   \n598           1.000             f        t             1               f   \n601           0.000             f        f             0               t   \n608           4.250             f        f             0               t   \n622           0.000             f        f             0               f   \n626           0.165             f        f             0               t   \n641           3.500             f        f             0               t   \n673           2.000             f        f             0               f   \n\n    Citizen Zip Code  Income Approved  \n71        g        ?       0        -  \n83        g    00300       0        -  \n86        s    00928       0        -  \n92        g    00000       0        -  \n97        s    00320       0        -  \n202       g        ?     600        +  \n206       p        ?       0        +  \n243       g        ?   26726        +  \n248       g    00073     444        +  \n254       g    00380    2010        -  \n270       p        ?       0        +  \n278       g        ?       0        -  \n286       g    00200     105        -  \n327       s    01160       0        -  \n329       g    00411       0        -  \n330       p        ?       0        -  \n346       g    00372     122        -  \n374       g    00260    1004        -  \n406       g        ?      18        -  \n445       g        ?    5200        -  \n450       g    00000       1        -  \n453       g    00300       0        -  \n456       p        ?       0        -  \n479       s    00080       0        -  \n489       g    00263       0        -  \n500       g    00290    2279        +  \n515       g    00000       0        +  \n520       g    00160     234        +  \n539       g    00000     340        -  \n592       p        ?       0        +  \n598       g    00240     768        +  \n601       g    00150       1        -  \n608       g    00460       0        -  \n622       p        ?       0        +  \n626       g        ?       0        -  \n641       g    00200     141        -  \n673       g    00256      17        -  ",
      "text/html": "<div>\n<style scoped>\n    .dataframe tbody tr th:only-of-type {\n        vertical-align: middle;\n    }\n\n    .dataframe tbody tr th {\n        vertical-align: top;\n    }\n\n    .dataframe thead th {\n        text-align: right;\n    }\n</style>\n<table border=\"1\" class=\"dataframe\">\n  <thead>\n    <tr style=\"text-align: right;\">\n      <th></th>\n      <th>Gender</th>\n      <th>Age</th>\n      <th>Debt</th>\n      <th>Married</th>\n      <th>Bank Customer</th>\n      <th>Education Level</th>\n      <th>Ethnicity</th>\n      <th>Years Employed</th>\n      <th>Prior Default</th>\n      <th>Employed</th>\n      <th>Credit Score</th>\n      <th>Drivers License</th>\n      <th>Citizen</th>\n      <th>Zip Code</th>\n      <th>Income</th>\n      <th>Approved</th>\n    </tr>\n  </thead>\n  <tbody>\n    <tr>\n      <th>71</th>\n      <td>b</td>\n      <td>34.83</td>\n      <td>4.000</td>\n      <td>u</td>\n      <td>g</td>\n      <td>d</td>\n      <td>bb</td>\n      <td>12.500</td>\n      <td>t</td>\n      <td>f</td>\n      <td>0</td>\n      <td>t</td>\n      <td>g</td>\n      <td>?</td>\n      <td>0</td>\n      <td>-</td>\n    </tr>\n    <tr>\n      <th>83</th>\n      <td>a</td>\n      <td>?</td>\n      <td>3.500</td>\n      <td>u</td>\n      <td>g</td>\n      <td>d</td>\n      <td>v</td>\n      <td>3.000</td>\n      <td>t</td>\n      <td>f</td>\n      <td>0</td>\n      <td>t</td>\n      <td>g</td>\n      <td>00300</td>\n      <td>0</td>\n      <td>-</td>\n    </tr>\n    <tr>\n      <th>86</th>\n      <td>b</td>\n      <td>?</td>\n      <td>0.375</td>\n      <td>u</td>\n      <td>g</td>\n      <td>d</td>\n      <td>v</td>\n      <td>0.875</td>\n      <td>t</td>\n      <td>f</td>\n      <td>0</td>\n      <td>t</td>\n      <td>s</td>\n      <td>00928</td>\n      <td>0</td>\n      <td>-</td>\n    </tr>\n    <tr>\n      <th>92</th>\n      <td>b</td>\n      <td>?</td>\n      <td>5.000</td>\n      <td>y</td>\n      <td>p</td>\n      <td>aa</td>\n      <td>v</td>\n      <td>8.500</td>\n      <td>t</td>\n      <td>f</td>\n      <td>0</td>\n      <td>f</td>\n      <td>g</td>\n      <td>00000</td>\n      <td>0</td>\n      <td>-</td>\n    </tr>\n    <tr>\n      <th>97</th>\n      <td>b</td>\n      <td>?</td>\n      <td>0.500</td>\n      <td>u</td>\n      <td>g</td>\n      <td>c</td>\n      <td>bb</td>\n      <td>0.835</td>\n      <td>t</td>\n      <td>f</td>\n      <td>0</td>\n      <td>t</td>\n      <td>s</td>\n      <td>00320</td>\n      <td>0</td>\n      <td>-</td>\n    </tr>\n    <tr>\n      <th>202</th>\n      <td>b</td>\n      <td>24.83</td>\n      <td>2.750</td>\n      <td>u</td>\n      <td>g</td>\n      <td>c</td>\n      <td>v</td>\n      <td>2.250</td>\n      <td>t</td>\n      <td>t</td>\n      <td>6</td>\n      <td>f</td>\n      <td>g</td>\n      <td>?</td>\n      <td>600</td>\n      <td>+</td>\n    </tr>\n    <tr>\n      <th>206</th>\n      <td>a</td>\n      <td>71.58</td>\n      <td>0.000</td>\n      <td>?</td>\n      <td>?</td>\n      <td>?</td>\n      <td>?</td>\n      <td>0.000</td>\n      <td>f</td>\n      <td>f</td>\n      <td>0</td>\n      <td>f</td>\n      <td>p</td>\n      <td>?</td>\n      <td>0</td>\n      <td>+</td>\n    </tr>\n    <tr>\n      <th>243</th>\n      <td>a</td>\n      <td>18.75</td>\n      <td>7.500</td>\n      <td>u</td>\n      <td>g</td>\n      <td>q</td>\n      <td>v</td>\n      <td>2.710</td>\n      <td>t</td>\n      <td>t</td>\n      <td>5</td>\n      <td>f</td>\n      <td>g</td>\n      <td>?</td>\n      <td>26726</td>\n      <td>+</td>\n    </tr>\n    <tr>\n      <th>248</th>\n      <td>?</td>\n      <td>24.50</td>\n      <td>12.750</td>\n      <td>u</td>\n      <td>g</td>\n      <td>c</td>\n      <td>bb</td>\n      <td>4.750</td>\n      <td>t</td>\n      <td>t</td>\n      <td>2</td>\n      <td>f</td>\n      <td>g</td>\n      <td>00073</td>\n      <td>444</td>\n      <td>+</td>\n    </tr>\n    <tr>\n      <th>254</th>\n      <td>b</td>\n      <td>?</td>\n      <td>0.625</td>\n      <td>u</td>\n      <td>g</td>\n      <td>k</td>\n      <td>v</td>\n      <td>0.250</td>\n      <td>f</td>\n      <td>f</td>\n      <td>0</td>\n      <td>f</td>\n      <td>g</td>\n      <td>00380</td>\n      <td>2010</td>\n      <td>-</td>\n    </tr>\n    <tr>\n      <th>270</th>\n      <td>b</td>\n      <td>37.58</td>\n      <td>0.000</td>\n      <td>?</td>\n      <td>?</td>\n      <td>?</td>\n      <td>?</td>\n      <td>0.000</td>\n      <td>f</td>\n      <td>f</td>\n      <td>0</td>\n      <td>f</td>\n      <td>p</td>\n      <td>?</td>\n      <td>0</td>\n      <td>+</td>\n    </tr>\n    <tr>\n      <th>278</th>\n      <td>b</td>\n      <td>24.58</td>\n      <td>13.500</td>\n      <td>y</td>\n      <td>p</td>\n      <td>ff</td>\n      <td>ff</td>\n      <td>0.000</td>\n      <td>f</td>\n      <td>f</td>\n      <td>0</td>\n      <td>f</td>\n      <td>g</td>\n      <td>?</td>\n      <td>0</td>\n      <td>-</td>\n    </tr>\n    <tr>\n      <th>286</th>\n      <td>a</td>\n      <td>?</td>\n      <td>1.500</td>\n      <td>u</td>\n      <td>g</td>\n      <td>ff</td>\n      <td>ff</td>\n      <td>0.000</td>\n      <td>f</td>\n      <td>t</td>\n      <td>2</td>\n      <td>t</td>\n      <td>g</td>\n      <td>00200</td>\n      <td>105</td>\n      <td>-</td>\n    </tr>\n    <tr>\n      <th>327</th>\n      <td>?</td>\n      <td>40.83</td>\n      <td>3.500</td>\n      <td>u</td>\n      <td>g</td>\n      <td>i</td>\n      <td>bb</td>\n      <td>0.500</td>\n      <td>f</td>\n      <td>f</td>\n      <td>0</td>\n      <td>f</td>\n      <td>s</td>\n      <td>01160</td>\n      <td>0</td>\n      <td>-</td>\n    </tr>\n    <tr>\n      <th>329</th>\n      <td>b</td>\n      <td>?</td>\n      <td>4.000</td>\n      <td>y</td>\n      <td>p</td>\n      <td>i</td>\n      <td>v</td>\n      <td>0.085</td>\n      <td>f</td>\n      <td>f</td>\n      <td>0</td>\n      <td>t</td>\n      <td>g</td>\n      <td>00411</td>\n      <td>0</td>\n      <td>-</td>\n    </tr>\n    <tr>\n      <th>330</th>\n      <td>b</td>\n      <td>20.42</td>\n      <td>0.000</td>\n      <td>?</td>\n      <td>?</td>\n      <td>?</td>\n      <td>?</td>\n      <td>0.000</td>\n      <td>f</td>\n      <td>f</td>\n      <td>0</td>\n      <td>f</td>\n      <td>p</td>\n      <td>?</td>\n      <td>0</td>\n      <td>-</td>\n    </tr>\n    <tr>\n      <th>346</th>\n      <td>?</td>\n      <td>32.25</td>\n      <td>1.500</td>\n      <td>u</td>\n      <td>g</td>\n      <td>c</td>\n      <td>v</td>\n      <td>0.250</td>\n      <td>f</td>\n      <td>f</td>\n      <td>0</td>\n      <td>t</td>\n      <td>g</td>\n      <td>00372</td>\n      <td>122</td>\n      <td>-</td>\n    </tr>\n    <tr>\n      <th>374</th>\n      <td>?</td>\n      <td>28.17</td>\n      <td>0.585</td>\n      <td>u</td>\n      <td>g</td>\n      <td>aa</td>\n      <td>v</td>\n      <td>0.040</td>\n      <td>f</td>\n      <td>f</td>\n      <td>0</td>\n      <td>f</td>\n      <td>g</td>\n      <td>00260</td>\n      <td>1004</td>\n      <td>-</td>\n    </tr>\n    <tr>\n      <th>406</th>\n      <td>a</td>\n      <td>40.33</td>\n      <td>8.125</td>\n      <td>y</td>\n      <td>p</td>\n      <td>k</td>\n      <td>v</td>\n      <td>0.165</td>\n      <td>f</td>\n      <td>t</td>\n      <td>2</td>\n      <td>f</td>\n      <td>g</td>\n      <td>?</td>\n      <td>18</td>\n      <td>-</td>\n    </tr>\n    <tr>\n      <th>445</th>\n      <td>a</td>\n      <td>?</td>\n      <td>11.250</td>\n      <td>u</td>\n      <td>g</td>\n      <td>ff</td>\n      <td>ff</td>\n      <td>0.000</td>\n      <td>f</td>\n      <td>f</td>\n      <td>0</td>\n      <td>f</td>\n      <td>g</td>\n      <td>?</td>\n      <td>5200</td>\n      <td>-</td>\n    </tr>\n    <tr>\n      <th>450</th>\n      <td>b</td>\n      <td>?</td>\n      <td>3.000</td>\n      <td>y</td>\n      <td>p</td>\n      <td>i</td>\n      <td>bb</td>\n      <td>7.000</td>\n      <td>f</td>\n      <td>f</td>\n      <td>0</td>\n      <td>f</td>\n      <td>g</td>\n      <td>00000</td>\n      <td>1</td>\n      <td>-</td>\n    </tr>\n    <tr>\n      <th>453</th>\n      <td>?</td>\n      <td>29.75</td>\n      <td>0.665</td>\n      <td>u</td>\n      <td>g</td>\n      <td>w</td>\n      <td>v</td>\n      <td>0.250</td>\n      <td>f</td>\n      <td>f</td>\n      <td>0</td>\n      <td>t</td>\n      <td>g</td>\n      <td>00300</td>\n      <td>0</td>\n      <td>-</td>\n    </tr>\n    <tr>\n      <th>456</th>\n      <td>b</td>\n      <td>34.58</td>\n      <td>0.000</td>\n      <td>?</td>\n      <td>?</td>\n      <td>?</td>\n      <td>?</td>\n      <td>0.000</td>\n      <td>f</td>\n      <td>f</td>\n      <td>0</td>\n      <td>f</td>\n      <td>p</td>\n      <td>?</td>\n      <td>0</td>\n      <td>-</td>\n    </tr>\n    <tr>\n      <th>479</th>\n      <td>?</td>\n      <td>26.50</td>\n      <td>2.710</td>\n      <td>y</td>\n      <td>p</td>\n      <td>?</td>\n      <td>?</td>\n      <td>0.085</td>\n      <td>f</td>\n      <td>f</td>\n      <td>0</td>\n      <td>f</td>\n      <td>s</td>\n      <td>00080</td>\n      <td>0</td>\n      <td>-</td>\n    </tr>\n    <tr>\n      <th>489</th>\n      <td>?</td>\n      <td>45.33</td>\n      <td>1.000</td>\n      <td>u</td>\n      <td>g</td>\n      <td>q</td>\n      <td>v</td>\n      <td>0.125</td>\n      <td>f</td>\n      <td>f</td>\n      <td>0</td>\n      <td>t</td>\n      <td>g</td>\n      <td>00263</td>\n      <td>0</td>\n      <td>-</td>\n    </tr>\n    <tr>\n      <th>500</th>\n      <td>b</td>\n      <td>?</td>\n      <td>4.000</td>\n      <td>u</td>\n      <td>g</td>\n      <td>x</td>\n      <td>v</td>\n      <td>5.000</td>\n      <td>t</td>\n      <td>t</td>\n      <td>3</td>\n      <td>t</td>\n      <td>g</td>\n      <td>00290</td>\n      <td>2279</td>\n      <td>+</td>\n    </tr>\n    <tr>\n      <th>515</th>\n      <td>b</td>\n      <td>?</td>\n      <td>10.500</td>\n      <td>u</td>\n      <td>g</td>\n      <td>x</td>\n      <td>v</td>\n      <td>6.500</td>\n      <td>t</td>\n      <td>f</td>\n      <td>0</td>\n      <td>f</td>\n      <td>g</td>\n      <td>00000</td>\n      <td>0</td>\n      <td>+</td>\n    </tr>\n    <tr>\n      <th>520</th>\n      <td>?</td>\n      <td>20.42</td>\n      <td>7.500</td>\n      <td>u</td>\n      <td>g</td>\n      <td>k</td>\n      <td>v</td>\n      <td>1.500</td>\n      <td>t</td>\n      <td>t</td>\n      <td>1</td>\n      <td>f</td>\n      <td>g</td>\n      <td>00160</td>\n      <td>234</td>\n      <td>+</td>\n    </tr>\n    <tr>\n      <th>539</th>\n      <td>b</td>\n      <td>80.25</td>\n      <td>5.500</td>\n      <td>u</td>\n      <td>g</td>\n      <td>?</td>\n      <td>?</td>\n      <td>0.540</td>\n      <td>t</td>\n      <td>f</td>\n      <td>0</td>\n      <td>f</td>\n      <td>g</td>\n      <td>00000</td>\n      <td>340</td>\n      <td>-</td>\n    </tr>\n    <tr>\n      <th>592</th>\n      <td>b</td>\n      <td>23.17</td>\n      <td>0.000</td>\n      <td>?</td>\n      <td>?</td>\n      <td>?</td>\n      <td>?</td>\n      <td>0.000</td>\n      <td>f</td>\n      <td>f</td>\n      <td>0</td>\n      <td>f</td>\n      <td>p</td>\n      <td>?</td>\n      <td>0</td>\n      <td>+</td>\n    </tr>\n    <tr>\n      <th>598</th>\n      <td>?</td>\n      <td>20.08</td>\n      <td>0.125</td>\n      <td>u</td>\n      <td>g</td>\n      <td>q</td>\n      <td>v</td>\n      <td>1.000</td>\n      <td>f</td>\n      <td>t</td>\n      <td>1</td>\n      <td>f</td>\n      <td>g</td>\n      <td>00240</td>\n      <td>768</td>\n      <td>+</td>\n    </tr>\n    <tr>\n      <th>601</th>\n      <td>?</td>\n      <td>42.25</td>\n      <td>1.750</td>\n      <td>y</td>\n      <td>p</td>\n      <td>?</td>\n      <td>?</td>\n      <td>0.000</td>\n      <td>f</td>\n      <td>f</td>\n      <td>0</td>\n      <td>t</td>\n      <td>g</td>\n      <td>00150</td>\n      <td>1</td>\n      <td>-</td>\n    </tr>\n    <tr>\n      <th>608</th>\n      <td>b</td>\n      <td>?</td>\n      <td>0.040</td>\n      <td>y</td>\n      <td>p</td>\n      <td>d</td>\n      <td>v</td>\n      <td>4.250</td>\n      <td>f</td>\n      <td>f</td>\n      <td>0</td>\n      <td>t</td>\n      <td>g</td>\n      <td>00460</td>\n      <td>0</td>\n      <td>-</td>\n    </tr>\n    <tr>\n      <th>622</th>\n      <td>a</td>\n      <td>25.58</td>\n      <td>0.000</td>\n      <td>?</td>\n      <td>?</td>\n      <td>?</td>\n      <td>?</td>\n      <td>0.000</td>\n      <td>f</td>\n      <td>f</td>\n      <td>0</td>\n      <td>f</td>\n      <td>p</td>\n      <td>?</td>\n      <td>0</td>\n      <td>+</td>\n    </tr>\n    <tr>\n      <th>626</th>\n      <td>b</td>\n      <td>22.00</td>\n      <td>7.835</td>\n      <td>y</td>\n      <td>p</td>\n      <td>i</td>\n      <td>bb</td>\n      <td>0.165</td>\n      <td>f</td>\n      <td>f</td>\n      <td>0</td>\n      <td>t</td>\n      <td>g</td>\n      <td>?</td>\n      <td>0</td>\n      <td>-</td>\n    </tr>\n    <tr>\n      <th>641</th>\n      <td>?</td>\n      <td>33.17</td>\n      <td>2.250</td>\n      <td>y</td>\n      <td>p</td>\n      <td>cc</td>\n      <td>v</td>\n      <td>3.500</td>\n      <td>f</td>\n      <td>f</td>\n      <td>0</td>\n      <td>t</td>\n      <td>g</td>\n      <td>00200</td>\n      <td>141</td>\n      <td>-</td>\n    </tr>\n    <tr>\n      <th>673</th>\n      <td>?</td>\n      <td>29.50</td>\n      <td>2.000</td>\n      <td>y</td>\n      <td>p</td>\n      <td>e</td>\n      <td>h</td>\n      <td>2.000</td>\n      <td>f</td>\n      <td>f</td>\n      <td>0</td>\n      <td>f</td>\n      <td>g</td>\n      <td>00256</td>\n      <td>17</td>\n      <td>-</td>\n    </tr>\n  </tbody>\n</table>\n</div>"
     },
     "execution_count": 89,
     "metadata": {},
     "output_type": "execute_result"
    }
   ],
   "source": [
    "data[data.isin([\"?\"]).any(axis=1)]"
   ],
   "metadata": {
    "collapsed": false
   }
  },
  {
   "cell_type": "code",
   "execution_count": 90,
   "outputs": [],
   "source": [
    "#Replace the value\n",
    "data = data.replace('?', np.nan)"
   ],
   "metadata": {
    "collapsed": false
   }
  },
  {
   "cell_type": "code",
   "execution_count": 91,
   "outputs": [
    {
     "name": "stdout",
     "output_type": "stream",
     "text": [
      "<class 'pandas.core.frame.DataFrame'>\n",
      "RangeIndex: 690 entries, 0 to 689\n",
      "Data columns (total 16 columns):\n",
      " #   Column           Non-Null Count  Dtype  \n",
      "---  ------           --------------  -----  \n",
      " 0   Gender           678 non-null    object \n",
      " 1   Age              678 non-null    object \n",
      " 2   Debt             690 non-null    float64\n",
      " 3   Married          684 non-null    object \n",
      " 4   Bank Customer    684 non-null    object \n",
      " 5   Education Level  681 non-null    object \n",
      " 6   Ethnicity        681 non-null    object \n",
      " 7   Years Employed   690 non-null    float64\n",
      " 8   Prior Default    690 non-null    object \n",
      " 9   Employed         690 non-null    object \n",
      " 10  Credit Score     690 non-null    int64  \n",
      " 11  Drivers License  690 non-null    object \n",
      " 12  Citizen          690 non-null    object \n",
      " 13  Zip Code         677 non-null    object \n",
      " 14  Income           690 non-null    int64  \n",
      " 15  Approved         690 non-null    object \n",
      "dtypes: float64(2), int64(2), object(12)\n",
      "memory usage: 86.4+ KB\n"
     ]
    }
   ],
   "source": [
    "data.info()"
   ],
   "metadata": {
    "collapsed": false
   }
  },
  {
   "cell_type": "code",
   "execution_count": 92,
   "outputs": [],
   "source": [
    "#Preprocessing the data\n",
    "data['Age'] = data['Age'].astype('float').round()"
   ],
   "metadata": {
    "collapsed": false
   }
  },
  {
   "cell_type": "code",
   "execution_count": 93,
   "outputs": [
    {
     "name": "stderr",
     "output_type": "stream",
     "text": [
      "C:\\Users\\rajat joshi\\AppData\\Local\\Temp\\ipykernel_6008\\596177527.py:7: FutureWarning: The default value of numeric_only in DataFrame.mean is deprecated. In a future version, it will default to False. In addition, specifying 'numeric_only=None' is deprecated. Select only valid columns or specify the value of numeric_only to silence this warning.\n",
      "  df.fillna(df.mean(), inplace=True)\n"
     ]
    }
   ],
   "source": [
    "def prep_data(dataframe):\n",
    "\n",
    "    # Make a copy of the dataset, to avoid corruption\n",
    "    df = dataframe.copy()\n",
    "\n",
    "    # Impute the missing values with mean imputation\n",
    "    df.fillna(df.mean(), inplace=True)\n",
    "\n",
    "    # Rename the target variables into numeric values\n",
    "    df.loc[df['Approved'] == '+', 'Approved'] = 1\n",
    "    df.loc[df['Approved'] == '-', 'Approved'] = 0\n",
    "\n",
    "    return(df)\n",
    "\n",
    "# Input the orginal dataset into the function\n",
    "data = prep_data(data)"
   ],
   "metadata": {
    "collapsed": false
   }
  },
  {
   "cell_type": "code",
   "execution_count": 94,
   "outputs": [],
   "source": [
    "# Iterate over each column\n",
    "for col in data.columns:\n",
    "\n",
    "    # Check if the column is of object type\n",
    "    if data[col].dtype == 'object':\n",
    "\n",
    "        # Impute with the most frequent value\n",
    "        data = data.fillna(data[col].value_counts().index[0])"
   ],
   "metadata": {
    "collapsed": false
   }
  },
  {
   "cell_type": "code",
   "execution_count": 95,
   "outputs": [],
   "source": [
    "# Instantiate LabelEncoder\n",
    "le = LabelEncoder()\n",
    "\n",
    "# Iterate over all the values of each column, extracting their dtypes and transforming them into numeric types.\n",
    "for col in data.columns:\n",
    "\n",
    "    #Compare\n",
    "    if data[col].dtype == 'object':\n",
    "\n",
    "        # Use LabelEncoder to do the numeric transformation\n",
    "        data[col] = le.fit_transform(data[col])"
   ],
   "metadata": {
    "collapsed": false
   }
  },
  {
   "cell_type": "code",
   "execution_count": 96,
   "outputs": [
    {
     "name": "stdout",
     "output_type": "stream",
     "text": [
      "<class 'pandas.core.frame.DataFrame'>\n",
      "RangeIndex: 690 entries, 0 to 689\n",
      "Data columns (total 16 columns):\n",
      " #   Column           Non-Null Count  Dtype  \n",
      "---  ------           --------------  -----  \n",
      " 0   Gender           690 non-null    int32  \n",
      " 1   Age              690 non-null    float64\n",
      " 2   Debt             690 non-null    float64\n",
      " 3   Married          690 non-null    int32  \n",
      " 4   Bank Customer    690 non-null    int32  \n",
      " 5   Education Level  690 non-null    int32  \n",
      " 6   Ethnicity        690 non-null    int32  \n",
      " 7   Years Employed   690 non-null    float64\n",
      " 8   Prior Default    690 non-null    int32  \n",
      " 9   Employed         690 non-null    int32  \n",
      " 10  Credit Score     690 non-null    int64  \n",
      " 11  Drivers License  690 non-null    int32  \n",
      " 12  Citizen          690 non-null    int32  \n",
      " 13  Zip Code         690 non-null    int32  \n",
      " 14  Income           690 non-null    int64  \n",
      " 15  Approved         690 non-null    int64  \n",
      "dtypes: float64(3), int32(10), int64(3)\n",
      "memory usage: 59.4 KB\n"
     ]
    }
   ],
   "source": [
    "data.info()"
   ],
   "metadata": {
    "collapsed": false
   }
  },
  {
   "cell_type": "markdown",
   "source": [
    "# Train And Test"
   ],
   "metadata": {
    "collapsed": false
   }
  },
  {
   "cell_type": "code",
   "execution_count": 97,
   "outputs": [],
   "source": [
    "data = data.drop([data.columns[11], data.columns[13]], axis=1)\n",
    "data = data.values\n",
    "\n",
    "X,y = data[:,0:13] , data[:,13]\n",
    "\n",
    "X_train, X_test, y_train, y_test = train_test_split(X, y, test_size=0.33, random_state=42)"
   ],
   "metadata": {
    "collapsed": false
   }
  },
  {
   "cell_type": "code",
   "execution_count": 98,
   "outputs": [],
   "source": [
    "scaler = MinMaxScaler(feature_range=(0, 1))\n",
    "\n",
    "rescaledX_train = scaler.fit_transform(X_train)\n",
    "\n",
    "rescaledX_test = scaler.transform(X_test)"
   ],
   "metadata": {
    "collapsed": false
   }
  },
  {
   "cell_type": "code",
   "execution_count": 99,
   "outputs": [
    {
     "data": {
      "text/plain": "LogisticRegression()",
      "text/html": "<style>#sk-container-id-2 {color: black;background-color: white;}#sk-container-id-2 pre{padding: 0;}#sk-container-id-2 div.sk-toggleable {background-color: white;}#sk-container-id-2 label.sk-toggleable__label {cursor: pointer;display: block;width: 100%;margin-bottom: 0;padding: 0.3em;box-sizing: border-box;text-align: center;}#sk-container-id-2 label.sk-toggleable__label-arrow:before {content: \"▸\";float: left;margin-right: 0.25em;color: #696969;}#sk-container-id-2 label.sk-toggleable__label-arrow:hover:before {color: black;}#sk-container-id-2 div.sk-estimator:hover label.sk-toggleable__label-arrow:before {color: black;}#sk-container-id-2 div.sk-toggleable__content {max-height: 0;max-width: 0;overflow: hidden;text-align: left;background-color: #f0f8ff;}#sk-container-id-2 div.sk-toggleable__content pre {margin: 0.2em;color: black;border-radius: 0.25em;background-color: #f0f8ff;}#sk-container-id-2 input.sk-toggleable__control:checked~div.sk-toggleable__content {max-height: 200px;max-width: 100%;overflow: auto;}#sk-container-id-2 input.sk-toggleable__control:checked~label.sk-toggleable__label-arrow:before {content: \"▾\";}#sk-container-id-2 div.sk-estimator input.sk-toggleable__control:checked~label.sk-toggleable__label {background-color: #d4ebff;}#sk-container-id-2 div.sk-label input.sk-toggleable__control:checked~label.sk-toggleable__label {background-color: #d4ebff;}#sk-container-id-2 input.sk-hidden--visually {border: 0;clip: rect(1px 1px 1px 1px);clip: rect(1px, 1px, 1px, 1px);height: 1px;margin: -1px;overflow: hidden;padding: 0;position: absolute;width: 1px;}#sk-container-id-2 div.sk-estimator {font-family: monospace;background-color: #f0f8ff;border: 1px dotted black;border-radius: 0.25em;box-sizing: border-box;margin-bottom: 0.5em;}#sk-container-id-2 div.sk-estimator:hover {background-color: #d4ebff;}#sk-container-id-2 div.sk-parallel-item::after {content: \"\";width: 100%;border-bottom: 1px solid gray;flex-grow: 1;}#sk-container-id-2 div.sk-label:hover label.sk-toggleable__label {background-color: #d4ebff;}#sk-container-id-2 div.sk-serial::before {content: \"\";position: absolute;border-left: 1px solid gray;box-sizing: border-box;top: 0;bottom: 0;left: 50%;z-index: 0;}#sk-container-id-2 div.sk-serial {display: flex;flex-direction: column;align-items: center;background-color: white;padding-right: 0.2em;padding-left: 0.2em;position: relative;}#sk-container-id-2 div.sk-item {position: relative;z-index: 1;}#sk-container-id-2 div.sk-parallel {display: flex;align-items: stretch;justify-content: center;background-color: white;position: relative;}#sk-container-id-2 div.sk-item::before, #sk-container-id-2 div.sk-parallel-item::before {content: \"\";position: absolute;border-left: 1px solid gray;box-sizing: border-box;top: 0;bottom: 0;left: 50%;z-index: -1;}#sk-container-id-2 div.sk-parallel-item {display: flex;flex-direction: column;z-index: 1;position: relative;background-color: white;}#sk-container-id-2 div.sk-parallel-item:first-child::after {align-self: flex-end;width: 50%;}#sk-container-id-2 div.sk-parallel-item:last-child::after {align-self: flex-start;width: 50%;}#sk-container-id-2 div.sk-parallel-item:only-child::after {width: 0;}#sk-container-id-2 div.sk-dashed-wrapped {border: 1px dashed gray;margin: 0 0.4em 0.5em 0.4em;box-sizing: border-box;padding-bottom: 0.4em;background-color: white;}#sk-container-id-2 div.sk-label label {font-family: monospace;font-weight: bold;display: inline-block;line-height: 1.2em;}#sk-container-id-2 div.sk-label-container {text-align: center;}#sk-container-id-2 div.sk-container {/* jupyter's `normalize.less` sets `[hidden] { display: none; }` but bootstrap.min.css set `[hidden] { display: none !important; }` so we also need the `!important` here to be able to override the default hidden behavior on the sphinx rendered scikit-learn.org. See: https://github.com/scikit-learn/scikit-learn/issues/21755 */display: inline-block !important;position: relative;}#sk-container-id-2 div.sk-text-repr-fallback {display: none;}</style><div id=\"sk-container-id-2\" class=\"sk-top-container\"><div class=\"sk-text-repr-fallback\"><pre>LogisticRegression()</pre><b>In a Jupyter environment, please rerun this cell to show the HTML representation or trust the notebook. <br />On GitHub, the HTML representation is unable to render, please try loading this page with nbviewer.org.</b></div><div class=\"sk-container\" hidden><div class=\"sk-item\"><div class=\"sk-estimator sk-toggleable\"><input class=\"sk-toggleable__control sk-hidden--visually\" id=\"sk-estimator-id-2\" type=\"checkbox\" checked><label for=\"sk-estimator-id-2\" class=\"sk-toggleable__label sk-toggleable__label-arrow\">LogisticRegression</label><div class=\"sk-toggleable__content\"><pre>LogisticRegression()</pre></div></div></div></div></div>"
     },
     "execution_count": 99,
     "metadata": {},
     "output_type": "execute_result"
    }
   ],
   "source": [
    "logreg = LogisticRegression(solver='lbfgs')\n",
    "\n",
    "logreg.fit(rescaledX_train, y_train)"
   ],
   "metadata": {
    "collapsed": false
   }
  },
  {
   "cell_type": "code",
   "execution_count": 100,
   "outputs": [
    {
     "data": {
      "text/plain": "array([[98, 27],\n       [ 9, 94]], dtype=int64)"
     },
     "execution_count": 100,
     "metadata": {},
     "output_type": "execute_result"
    }
   ],
   "source": [
    "probas = logreg.predict_proba(rescaledX_test)\n",
    "\n",
    "y_pred = (probas[:, 1] >= 0.5).astype(int)\n",
    "\n",
    "\n",
    "confusion_matrix(y_test, y_pred)"
   ],
   "metadata": {
    "collapsed": false
   }
  },
  {
   "cell_type": "code",
   "execution_count": 101,
   "outputs": [
    {
     "name": "stdout",
     "output_type": "stream",
     "text": [
      "[[0.84175403 0.15824597]\n",
      " [0.30079631 0.69920369]\n",
      " [0.94181871 0.05818129]\n",
      " [0.92511181 0.07488819]\n",
      " [0.9734551  0.0265449 ]\n",
      " [0.48844381 0.51155619]\n",
      " [0.97293109 0.02706891]\n",
      " [0.34678037 0.65321963]\n",
      " [0.94433224 0.05566776]\n",
      " [0.94015346 0.05984654]\n",
      " [0.92362598 0.07637402]\n",
      " [0.28228475 0.71771525]\n",
      " [0.94017598 0.05982402]\n",
      " [0.26479278 0.73520722]\n",
      " [0.80810964 0.19189036]\n",
      " [0.16683966 0.83316034]\n",
      " [0.96907964 0.03092036]\n",
      " [0.86386799 0.13613201]\n",
      " [0.9332243  0.0667757 ]\n",
      " [0.96575002 0.03424998]\n",
      " [0.86236418 0.13763582]\n",
      " [0.94195392 0.05804608]\n",
      " [0.97193638 0.02806362]\n",
      " [0.26580929 0.73419071]\n",
      " [0.97511098 0.02488902]\n",
      " [0.93146685 0.06853315]\n",
      " [0.04932822 0.95067178]\n",
      " [0.28149006 0.71850994]\n",
      " [0.93546642 0.06453358]\n",
      " [0.93221727 0.06778273]\n",
      " [0.1524044  0.8475956 ]\n",
      " [0.09749019 0.90250981]\n",
      " [0.28473042 0.71526958]\n",
      " [0.169403   0.830597  ]\n",
      " [0.30238477 0.69761523]\n",
      " [0.12814005 0.87185995]\n",
      " [0.04701882 0.95298118]\n",
      " [0.26382021 0.73617979]\n",
      " [0.15530493 0.84469507]\n",
      " [0.06113183 0.93886817]\n",
      " [0.13246267 0.86753733]\n",
      " [0.19848415 0.80151585]\n",
      " [0.93379787 0.06620213]\n",
      " [0.26259861 0.73740139]\n",
      " [0.93043633 0.06956367]\n",
      " [0.03970933 0.96029067]\n",
      " [0.93565595 0.06434405]\n",
      " [0.96989444 0.03010556]\n",
      " [0.36239527 0.63760473]\n",
      " [0.93596681 0.06403319]\n",
      " [0.97139378 0.02860622]\n",
      " [0.42914585 0.57085415]\n",
      " [0.9406416  0.0593584 ]\n",
      " [0.94292866 0.05707134]\n",
      " [0.1402426  0.8597574 ]\n",
      " [0.94313822 0.05686178]\n",
      " [0.14181038 0.85818962]\n",
      " [0.93860374 0.06139626]\n",
      " [0.14186994 0.85813006]\n",
      " [0.94483732 0.05516268]\n",
      " [0.08079436 0.91920564]\n",
      " [0.12752506 0.87247494]\n",
      " [0.16489651 0.83510349]\n",
      " [0.59071902 0.40928098]\n",
      " [0.94784464 0.05215536]\n",
      " [0.15186984 0.84813016]\n",
      " [0.09174778 0.90825222]\n",
      " [0.49949108 0.50050892]\n",
      " [0.22786321 0.77213679]\n",
      " [0.92237822 0.07762178]\n",
      " [0.96121419 0.03878581]\n",
      " [0.32373626 0.67626374]\n",
      " [0.90759285 0.09240715]\n",
      " [0.29608405 0.70391595]\n",
      " [0.94190302 0.05809698]\n",
      " [0.9732014  0.0267986 ]\n",
      " [0.92424265 0.07575735]\n",
      " [0.40253943 0.59746057]\n",
      " [0.12535039 0.87464961]\n",
      " [0.93952493 0.06047507]\n",
      " [0.14663959 0.85336041]\n",
      " [0.26609522 0.73390478]\n",
      " [0.83565972 0.16434028]\n",
      " [0.82875342 0.17124658]\n",
      " [0.16511104 0.83488896]\n",
      " [0.90639027 0.09360973]\n",
      " [0.1007681  0.8992319 ]\n",
      " [0.14427036 0.85572964]\n",
      " [0.13585252 0.86414748]\n",
      " [0.12249315 0.87750685]\n",
      " [0.33210793 0.66789207]\n",
      " [0.39862363 0.60137637]\n",
      " [0.05051959 0.94948041]\n",
      " [0.28413751 0.71586249]\n",
      " [0.35039568 0.64960432]\n",
      " [0.14563702 0.85436298]\n",
      " [0.13883437 0.86116563]\n",
      " [0.29425502 0.70574498]\n",
      " [0.92930265 0.07069735]\n",
      " [0.97451762 0.02548238]\n",
      " [0.90881795 0.09118205]\n",
      " [0.86377514 0.13622486]\n",
      " [0.15869254 0.84130746]\n",
      " [0.37341367 0.62658633]\n",
      " [0.08665679 0.91334321]\n",
      " [0.29839899 0.70160101]\n",
      " [0.94308018 0.05691982]\n",
      " [0.05234908 0.94765092]\n",
      " [0.92607663 0.07392337]\n",
      " [0.06163936 0.93836064]\n",
      " [0.92268738 0.07731262]\n",
      " [0.24544564 0.75455436]\n",
      " [0.18649222 0.81350778]\n",
      " [0.49415653 0.50584347]\n",
      " [0.2868715  0.7131285 ]\n",
      " [0.74662132 0.25337868]\n",
      " [0.05494426 0.94505574]\n",
      " [0.12899509 0.87100491]\n",
      " [0.84528916 0.15471084]\n",
      " [0.14173212 0.85826788]\n",
      " [0.93446237 0.06553763]\n",
      " [0.94123647 0.05876353]\n",
      " [0.12754415 0.87245585]\n",
      " [0.83947496 0.16052504]\n",
      " [0.96240237 0.03759763]\n",
      " [0.33400349 0.66599651]\n",
      " [0.92698075 0.07301925]\n",
      " [0.89255049 0.10744951]\n",
      " [0.0930149  0.9069851 ]\n",
      " [0.12805108 0.87194892]\n",
      " [0.35162947 0.64837053]\n",
      " [0.91969798 0.08030202]\n",
      " [0.37342984 0.62657016]\n",
      " [0.93593774 0.06406226]\n",
      " [0.12183752 0.87816248]\n",
      " [0.11903088 0.88096912]\n",
      " [0.1295349  0.8704651 ]\n",
      " [0.13292921 0.86707079]\n",
      " [0.97364544 0.02635456]\n",
      " [0.11223479 0.88776521]\n",
      " [0.29012812 0.70987188]\n",
      " [0.30326607 0.69673393]\n",
      " [0.08101105 0.91898895]\n",
      " [0.0975722  0.9024278 ]\n",
      " [0.94752234 0.05247766]\n",
      " [0.81416756 0.18583244]\n",
      " [0.97682617 0.02317383]\n",
      " [0.28367699 0.71632301]\n",
      " [0.38183646 0.61816354]\n",
      " [0.92575771 0.07424229]\n",
      " [0.9749002  0.0250998 ]\n",
      " [0.93233533 0.06766467]\n",
      " [0.96333255 0.03666745]\n",
      " [0.1278088  0.8721912 ]\n",
      " [0.83282152 0.16717848]\n",
      " [0.11953135 0.88046865]\n",
      " [0.08067426 0.91932574]\n",
      " [0.17166861 0.82833139]\n",
      " [0.9364996  0.0635004 ]\n",
      " [0.81558634 0.18441366]\n",
      " [0.10960376 0.89039624]\n",
      " [0.9736282  0.0263718 ]\n",
      " [0.92578549 0.07421451]\n",
      " [0.97050267 0.02949733]\n",
      " [0.96948185 0.03051815]\n",
      " [0.97160447 0.02839553]\n",
      " [0.94225852 0.05774148]\n",
      " [0.14988064 0.85011936]\n",
      " [0.93264054 0.06735946]\n",
      " [0.28793642 0.71206358]\n",
      " [0.9237617  0.0762383 ]\n",
      " [0.94196621 0.05803379]\n",
      " [0.33198891 0.66801109]\n",
      " [0.94538353 0.05461647]\n",
      " [0.55530324 0.44469676]\n",
      " [0.9249756  0.0750244 ]\n",
      " [0.93293517 0.06706483]\n",
      " [0.93474885 0.06525115]\n",
      " [0.92341988 0.07658012]\n",
      " [0.94226527 0.05773473]\n",
      " [0.84677419 0.15322581]\n",
      " [0.2431736  0.7568264 ]\n",
      " [0.32686641 0.67313359]\n",
      " [0.80309391 0.19690609]\n",
      " [0.10533039 0.89466961]\n",
      " [0.9206587  0.0793413 ]\n",
      " [0.45747377 0.54252623]\n",
      " [0.36785319 0.63214681]\n",
      " [0.29643178 0.70356822]\n",
      " [0.14107754 0.85892246]\n",
      " [0.93297472 0.06702528]\n",
      " [0.22925742 0.77074258]\n",
      " [0.96228335 0.03771665]\n",
      " [0.27894348 0.72105652]\n",
      " [0.23905455 0.76094545]\n",
      " [0.15687797 0.84312203]\n",
      " [0.09313357 0.90686643]\n",
      " [0.07716778 0.92283222]\n",
      " [0.13720991 0.86279009]\n",
      " [0.18494676 0.81505324]\n",
      " [0.31978137 0.68021863]\n",
      " [0.11201414 0.88798586]\n",
      " [0.97365313 0.02634687]\n",
      " [0.13171115 0.86828885]\n",
      " [0.32916027 0.67083973]\n",
      " [0.93155311 0.06844689]\n",
      " [0.13154495 0.86845505]\n",
      " [0.14092884 0.85907116]\n",
      " [0.97549197 0.02450803]\n",
      " [0.96506617 0.03493383]\n",
      " [0.12974318 0.87025682]\n",
      " [0.82926149 0.17073851]\n",
      " [0.28244503 0.71755497]\n",
      " [0.36419827 0.63580173]\n",
      " [0.94440831 0.05559169]\n",
      " [0.84675919 0.15324081]\n",
      " [0.3111207  0.6888793 ]\n",
      " [0.94138887 0.05861113]\n",
      " [0.79281653 0.20718347]\n",
      " [0.92200412 0.07799588]\n",
      " [0.37948071 0.62051929]\n",
      " [0.12332214 0.87667786]\n",
      " [0.24053439 0.75946561]\n",
      " [0.9743374  0.0256626 ]\n",
      " [0.06813154 0.93186846]\n",
      " [0.96108717 0.03891283]\n",
      " [0.93493426 0.06506574]\n",
      " [0.97212268 0.02787732]]\n"
     ]
    }
   ],
   "source": [
    "print(probas)"
   ],
   "metadata": {
    "collapsed": false
   }
  },
  {
   "cell_type": "code",
   "execution_count": 107,
   "outputs": [
    {
     "data": {
      "text/plain": "<Figure size 1000x800 with 1 Axes>",
      "image/png": "[encoded data removed]"
     },
     "metadata": {},
     "output_type": "display_data"
    }
   ],
   "source": [
    "fpr, tpr, thresholds = roc_curve(y_test, probas[:, 1])\n",
    "roc_auc = auc(fpr,tpr)\n",
    "plt.figure(figsize=(10, 8))\n",
    "plt.title('Receiver Characteristic',color=\"yellow\")\n",
    "plt.plot(fpr, tpr, 'b',label='AUC = %0.3f' % roc_auc)\n",
    "plt.legend(loc='lower right')\n",
    "plt.plot([0,1], [0,1],'r--')\n",
    "plt.xlim([0.0, 1.0])\n",
    "plt.ylim([0.0, 1.01])\n",
    "plt.ylabel('True Rate (+)',color=\"Green\")\n",
    "plt.xlabel('False Rate (-)',color=\"orange\")\n",
    "plt.show()"
   ],
   "metadata": {
    "collapsed": false
   }
  },
  {
   "cell_type": "code",
   "execution_count": null,
   "outputs": [],
   "source": [],
   "metadata": {
    "collapsed": false
   }
  }
 ],
 "metadata": {
  "kernelspec": {
   "display_name": "Python 3",
   "language": "python",
   "name": "python3"
  },
  "language_info": {
   "codemirror_mode": {
    "name": "ipython",
    "version": 2
   },
   "file_extension": ".py",
   "mimetype": "text/x-python",
   "name": "python",
   "nbconvert_exporter": "python",
   "pygments_lexer": "ipython2",
   "version": "2.7.6"
  }
 },
 "nbformat": 4,
 "nbformat_minor": 0
}
